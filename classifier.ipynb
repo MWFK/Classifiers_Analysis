{
 "cells": [
  {
   "cell_type": "markdown",
   "metadata": {},
   "source": [
    "# Team intelligence \n",
    "Mouafek Ayadi Khouala Jouini Nasr Ladib Amal Omri Bechir Guerfili"
   ]
  },
  {
   "cell_type": "markdown",
   "metadata": {},
   "source": [
    "### Data import and verification"
   ]
  },
  {
   "cell_type": "code",
   "execution_count": 24,
   "metadata": {},
   "outputs": [
    {
     "data": {
      "text/html": [
       "<div>\n",
       "<style scoped>\n",
       "    .dataframe tbody tr th:only-of-type {\n",
       "        vertical-align: middle;\n",
       "    }\n",
       "\n",
       "    .dataframe tbody tr th {\n",
       "        vertical-align: top;\n",
       "    }\n",
       "\n",
       "    .dataframe thead th {\n",
       "        text-align: right;\n",
       "    }\n",
       "</style>\n",
       "<table border=\"1\" class=\"dataframe\">\n",
       "  <thead>\n",
       "    <tr style=\"text-align: right;\">\n",
       "      <th></th>\n",
       "      <th>GEST</th>\n",
       "      <th>DILATE</th>\n",
       "      <th>EFFACE</th>\n",
       "      <th>CONSIS</th>\n",
       "      <th>CONTR</th>\n",
       "      <th>MEMBRAN</th>\n",
       "      <th>AGE</th>\n",
       "      <th>STRAT</th>\n",
       "      <th>GRAVID</th>\n",
       "      <th>PARIT</th>\n",
       "      <th>DIAB</th>\n",
       "      <th>TRANSF</th>\n",
       "      <th>GEMEL</th>\n",
       "      <th>PREMATURE</th>\n",
       "    </tr>\n",
       "  </thead>\n",
       "  <tbody>\n",
       "    <tr>\n",
       "      <th>0</th>\n",
       "      <td>31</td>\n",
       "      <td>3</td>\n",
       "      <td>100</td>\n",
       "      <td>3</td>\n",
       "      <td>1</td>\n",
       "      <td>2</td>\n",
       "      <td>26</td>\n",
       "      <td>3</td>\n",
       "      <td>1</td>\n",
       "      <td>0</td>\n",
       "      <td>2</td>\n",
       "      <td>2</td>\n",
       "      <td>1</td>\n",
       "      <td>positif</td>\n",
       "    </tr>\n",
       "    <tr>\n",
       "      <th>1</th>\n",
       "      <td>28</td>\n",
       "      <td>8</td>\n",
       "      <td>0</td>\n",
       "      <td>3</td>\n",
       "      <td>1</td>\n",
       "      <td>2</td>\n",
       "      <td>25</td>\n",
       "      <td>3</td>\n",
       "      <td>1</td>\n",
       "      <td>0</td>\n",
       "      <td>2</td>\n",
       "      <td>1</td>\n",
       "      <td>2</td>\n",
       "      <td>positif</td>\n",
       "    </tr>\n",
       "    <tr>\n",
       "      <th>2</th>\n",
       "      <td>31</td>\n",
       "      <td>3</td>\n",
       "      <td>100</td>\n",
       "      <td>3</td>\n",
       "      <td>2</td>\n",
       "      <td>2</td>\n",
       "      <td>28</td>\n",
       "      <td>3</td>\n",
       "      <td>2</td>\n",
       "      <td>0</td>\n",
       "      <td>2</td>\n",
       "      <td>1</td>\n",
       "      <td>1</td>\n",
       "      <td>positif</td>\n",
       "    </tr>\n",
       "    <tr>\n",
       "      <th>3</th>\n",
       "      <td>27</td>\n",
       "      <td>2</td>\n",
       "      <td>75</td>\n",
       "      <td>3</td>\n",
       "      <td>2</td>\n",
       "      <td>2</td>\n",
       "      <td>27</td>\n",
       "      <td>2</td>\n",
       "      <td>2</td>\n",
       "      <td>1</td>\n",
       "      <td>2</td>\n",
       "      <td>1</td>\n",
       "      <td>2</td>\n",
       "      <td>positif</td>\n",
       "    </tr>\n",
       "    <tr>\n",
       "      <th>4</th>\n",
       "      <td>28</td>\n",
       "      <td>6</td>\n",
       "      <td>75</td>\n",
       "      <td>3</td>\n",
       "      <td>2</td>\n",
       "      <td>2</td>\n",
       "      <td>17</td>\n",
       "      <td>3</td>\n",
       "      <td>1</td>\n",
       "      <td>0</td>\n",
       "      <td>2</td>\n",
       "      <td>1</td>\n",
       "      <td>1</td>\n",
       "      <td>positif</td>\n",
       "    </tr>\n",
       "  </tbody>\n",
       "</table>\n",
       "</div>"
      ],
      "text/plain": [
       "   GEST  DILATE  EFFACE  CONSIS  CONTR  MEMBRAN  AGE  STRAT  GRAVID  PARIT  \\\n",
       "0    31       3     100       3      1        2   26      3       1      0   \n",
       "1    28       8       0       3      1        2   25      3       1      0   \n",
       "2    31       3     100       3      2        2   28      3       2      0   \n",
       "3    27       2      75       3      2        2   27      2       2      1   \n",
       "4    28       6      75       3      2        2   17      3       1      0   \n",
       "\n",
       "   DIAB  TRANSF  GEMEL PREMATURE  \n",
       "0     2       2      1   positif  \n",
       "1     2       1      2   positif  \n",
       "2     2       1      1   positif  \n",
       "3     2       1      2   positif  \n",
       "4     2       1      1   positif  "
      ]
     },
     "execution_count": 24,
     "metadata": {},
     "output_type": "execute_result"
    }
   ],
   "source": [
    "import pandas as pd\n",
    "dt = pd.read_excel(\"C:/Users\\MK/Python/Classification/accouchement-prématuré-données.xls\",sheet_name=0,header=0)\n",
    "dt.head()"
   ]
  },
  {
   "cell_type": "markdown",
   "metadata": {},
   "source": [
    "### Take samples from dt"
   ]
  },
  {
   "cell_type": "code",
   "execution_count": 25,
   "metadata": {},
   "outputs": [],
   "source": [
    "x = dt.iloc[:,0:13].values                  \n",
    "y = pd.factorize(dt['PREMATURE'])[0] "
   ]
  },
  {
   "cell_type": "markdown",
   "metadata": {},
   "source": [
    "### Train and Test data"
   ]
  },
  {
   "cell_type": "code",
   "execution_count": 26,
   "metadata": {},
   "outputs": [],
   "source": [
    "from sklearn.model_selection import train_test_split\n",
    "X_train, X_test, y_train, y_test = train_test_split(x, y, random_state=0) "
   ]
  },
  {
   "cell_type": "markdown",
   "metadata": {},
   "source": [
    "### DTC, RFC, KNN, SVM: who is the best classifier?"
   ]
  },
  {
   "cell_type": "markdown",
   "metadata": {},
   "source": [
    "### Prediction"
   ]
  },
  {
   "cell_type": "code",
   "execution_count": 27,
   "metadata": {},
   "outputs": [
    {
     "name": "stderr",
     "output_type": "stream",
     "text": [
      "C:\\Users\\MK\\Anaconda3\\lib\\site-packages\\sklearn\\ensemble\\forest.py:246: FutureWarning: The default value of n_estimators will change from 10 in version 0.20 to 100 in 0.22.\n",
      "  \"10 in version 0.20 to 100 in 0.22.\", FutureWarning)\n"
     ]
    }
   ],
   "source": [
    "from sklearn.tree import DecisionTreeClassifier\n",
    "dtc = DecisionTreeClassifier()\n",
    "dtc_model = DecisionTreeClassifier().fit(X_train, y_train)\n",
    "y_pred_dtc = dtc_model.predict(X_test)\n",
    "\n",
    "from sklearn.ensemble import RandomForestClassifier\n",
    "rfc = RandomForestClassifier()  \n",
    "rfc_model = rfc.fit(X_train, y_train)  \n",
    "y_pred_rfc = rfc_model.predict(X_test)\n",
    "\n",
    "from sklearn.neighbors import KNeighborsClassifier\n",
    "knn = KNeighborsClassifier()\n",
    "knn_model = knn.fit(X_train, y_train) \n",
    "y_pred_knn = knn_model.predict(X_test)\n",
    "\n",
    "from sklearn.svm import SVC\n",
    "svm = SVC(gamma='scale', probability=True,  kernel='poly') \n",
    "svm_model = svm.fit(X_train, y_train)\n",
    "y_pred_svm = svm_model.predict(X_test)"
   ]
  },
  {
   "cell_type": "markdown",
   "metadata": {},
   "source": [
    "### Accuracy"
   ]
  },
  {
   "cell_type": "code",
   "execution_count": 28,
   "metadata": {},
   "outputs": [
    {
     "name": "stdout",
     "output_type": "stream",
     "text": [
      "Accuracy of SVM classifier on traning set: 0.79\n",
      "Accuracy of SVM classifier on test set: 0.70\n",
      "Accuracy of KNN classifier on traning set: 0.76\n",
      "Accuracy of KNN classifier on test set: 0.69\n",
      "DTC\n",
      "Mean Absolute Error: 0.336734693877551\n",
      "Mean Squared Error: 0.336734693877551\n",
      "Root Mean Squared Error: 0.5802884574739972\n",
      "RFC\n",
      "Mean Absolute Error: 0.2653061224489796\n",
      "Mean Squared Error: 0.2653061224489796\n",
      "Root Mean Squared Error: 0.5150787536377128\n"
     ]
    }
   ],
   "source": [
    "print('Accuracy of SVM classifier on traning set: {:.2f}'.format(svm.score(X_train, y_train)))\n",
    "print('Accuracy of SVM classifier on test set: {:.2f}'.format(svm.score(X_test, y_test)))\n",
    "\n",
    "print('Accuracy of KNN classifier on traning set: {:.2f}'.format(knn.score(X_train, y_train)))\n",
    "print('Accuracy of KNN classifier on test set: {:.2f}'.format(knn.score(X_test, y_test)))\n",
    "\n",
    "from sklearn import metrics\n",
    "import numpy as np\n",
    "print('DTC')\n",
    "print('Mean Absolute Error:', metrics.mean_absolute_error(y_test, y_pred_dtc))  \n",
    "print('Mean Squared Error:', metrics.mean_squared_error(y_test, y_pred_dtc))  \n",
    "print('Root Mean Squared Error:', np.sqrt(metrics.mean_squared_error(y_test, y_pred_dtc)))  \n",
    "print('RFC')\n",
    "print('Mean Absolute Error:', metrics.mean_absolute_error(y_test, y_pred_rfc))  \n",
    "print('Mean Squared Error:', metrics.mean_squared_error(y_test, y_pred_rfc))  \n",
    "print('Root Mean Squared Error:', np.sqrt(metrics.mean_squared_error(y_test, y_pred_rfc)))"
   ]
  },
  {
   "cell_type": "markdown",
   "metadata": {},
   "source": [
    "### Classification report"
   ]
  },
  {
   "cell_type": "code",
   "execution_count": 29,
   "metadata": {},
   "outputs": [
    {
     "name": "stdout",
     "output_type": "stream",
     "text": [
      "DTC\n",
      "              precision    recall  f1-score   support\n",
      "\n",
      "           0       0.74      0.77      0.75        65\n",
      "           1       0.50      0.45      0.48        33\n",
      "\n",
      "   micro avg       0.66      0.66      0.66        98\n",
      "   macro avg       0.62      0.61      0.61        98\n",
      "weighted avg       0.66      0.66      0.66        98\n",
      "\n",
      "RFC\n",
      "              precision    recall  f1-score   support\n",
      "\n",
      "           0       0.76      0.88      0.81        65\n",
      "           1       0.65      0.45      0.54        33\n",
      "\n",
      "   micro avg       0.73      0.73      0.73        98\n",
      "   macro avg       0.71      0.67      0.68        98\n",
      "weighted avg       0.72      0.73      0.72        98\n",
      "\n",
      "KNN\n",
      "              precision    recall  f1-score   support\n",
      "\n",
      "           0       0.73      0.86      0.79        65\n",
      "           1       0.57      0.36      0.44        33\n",
      "\n",
      "   micro avg       0.69      0.69      0.69        98\n",
      "   macro avg       0.65      0.61      0.62        98\n",
      "weighted avg       0.67      0.69      0.67        98\n",
      "\n",
      "SVM\n",
      "              precision    recall  f1-score   support\n",
      "\n",
      "           0       0.76      0.82      0.79        65\n",
      "           1       0.57      0.48      0.52        33\n",
      "\n",
      "   micro avg       0.70      0.70      0.70        98\n",
      "   macro avg       0.66      0.65      0.65        98\n",
      "weighted avg       0.69      0.70      0.70        98\n",
      "\n"
     ]
    }
   ],
   "source": [
    "from sklearn.metrics import confusion_matrix,classification_report\n",
    "print('DTC')\n",
    "print( classification_report(y_test, y_pred_dtc))\n",
    "print('RFC')\n",
    "print( classification_report(y_test, y_pred_rfc)) \n",
    "print('KNN')\n",
    "print( classification_report(y_test, y_pred_knn))\n",
    "print('SVM')\n",
    "print( classification_report(y_test, y_pred_svm)) "
   ]
  },
  {
   "cell_type": "markdown",
   "metadata": {},
   "source": [
    "### ROC curve for all classifiers"
   ]
  },
  {
   "cell_type": "code",
   "execution_count": 30,
   "metadata": {},
   "outputs": [
    {
     "data": {
      "image/png": "[encoded data removed]",
      "text/plain": [
       "<Figure size 432x288 with 1 Axes>"
      ]
     },
     "metadata": {
      "needs_background": "light"
     },
     "output_type": "display_data"
    }
   ],
   "source": [
    "    import matplotlib.pyplot as plt\n",
    "    %matplotlib inline \n",
    "    \n",
    "    fpr1, tpr1, threshold1 = roc_curve(y_test, y_pred_dtc)\n",
    "    roc_auc1 = auc(fpr1, tpr1)\n",
    "    \n",
    "    fpr2, tpr2, threshold2 = roc_curve(y_test, y_pred_rfc)\n",
    "    roc_auc2 = auc(fpr2, tpr2)\n",
    "    \n",
    "    fpr3, tpr3, threshold3 = roc_curve(y_test, y_pred_knn)\n",
    "    roc_auc3 = auc(fpr3, tpr3)\n",
    "    \n",
    "    fpr4, tpr4, threshold4 = roc_curve(y_test, y_pred_svm)\n",
    "    roc_auc4 = auc(fpr4, tpr4)\n",
    "    \n",
    "    plt.figure()\n",
    "    plt.plot(fpr1, tpr1, color='navy', lw=2, label='DTC ROC curve (area = %0.2f)' % roc_auc1)\n",
    "    plt.plot(fpr2, tpr2, color='green', lw=2, label='RFC ROC curve (area = %0.2f)' % roc_auc2)\n",
    "    plt.plot(fpr3, tpr3, color='yellow', lw=2, label='KNN ROC curve (area = %0.2f)' % roc_auc3)\n",
    "    plt.plot(fpr4, tpr4, color='grey', lw=2, label='SVM ROC curve (area = %0.2f)' % roc_auc4)\n",
    "    \n",
    "    plt.plot([0, 1], [0, 1], color='red', lw=2, linestyle='--')\n",
    "    plt.xlim([0.0, 1.0])\n",
    "    plt.ylim([0.0, 1.05])\n",
    "    plt.xlabel('False Positive Rate')\n",
    "    plt.ylabel('True Positive Rate')\n",
    "    plt.title('Classifiers ROC curves')\n",
    "    plt.legend(loc = \"lower right\")\n",
    "    plt.show()"
   ]
  },
  {
   "cell_type": "markdown",
   "metadata": {},
   "source": [
    "### Conclusion"
   ]
  },
  {
   "cell_type": "markdown",
   "metadata": {},
   "source": [
    "For standard configuration of the following classifiers: DTC, RFC, KNN, and choosing poly as a kernal type for SVM we got the previous results, thus the best classifier is SVM, because the upper left corner is higher than the others.\n",
    "\n",
    "Yet these results will be diffrent if we change the train and test data scalers.\n",
    "Moreover changing these classifiers parameters will change these results, and depending on the dataset nature, we can choose more specific classifiers, with more adequat results.\n",
    "\n",
    "ROC curve is a good way to choose the adequat classifier, but there are other methods that get indepth knowedge of these classifiers."
   ]
  }
 ],
 "metadata": {
  "kernelspec": {
   "display_name": "Python 3",
   "language": "python",
   "name": "python3"
  },
  "language_info": {
   "codemirror_mode": {
    "name": "ipython",
    "version": 3
   },
   "file_extension": ".py",
   "mimetype": "text/x-python",
   "name": "python",
   "nbconvert_exporter": "python",
   "pygments_lexer": "ipython3",
   "version": "3.7.1"
  }
 },
 "nbformat": 4,
 "nbformat_minor": 2
}
